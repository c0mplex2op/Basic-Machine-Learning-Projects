{
 "cells": [
  {
   "cell_type": "code",
   "execution_count": 2,
   "id": "aebf5704",
   "metadata": {},
   "outputs": [
    {
     "name": "stdout",
     "output_type": "stream",
     "text": [
      "Requirement already satisfied: autocorrect in c:\\users\\nikun\\anaconda3\\lib\\site-packages (2.6.1)\n"
     ]
    }
   ],
   "source": [
    "!pip install autocorrect"
   ]
  },
  {
   "cell_type": "code",
   "execution_count": 3,
   "id": "01e60955",
   "metadata": {},
   "outputs": [],
   "source": [
    "from autocorrect import Speller"
   ]
  },
  {
   "cell_type": "code",
   "execution_count": 4,
   "id": "af1ab3de",
   "metadata": {},
   "outputs": [],
   "source": [
    "def correct_it(text):\n",
    "    text_1 = text.split()\n",
    "    length = len(text_1)\n",
    "    spell = Speller()\n",
    "    corrected_text = ' '.join([spell(word) for word in text.split()])\n",
    "    if length==1:\n",
    "        print(f\"Original Word : {text}\")\n",
    "        print(f\"Corrected Word : {corrected_text}\")\n",
    "    else:\n",
    "        print(f\"Original Sentence : {text}\")\n",
    "        print(f\"Corrected Sentence : {corrected_text}\")\n",
    "    return "
   ]
  },
  {
   "cell_type": "code",
   "execution_count": 5,
   "id": "24954698",
   "metadata": {
    "scrolled": true
   },
   "outputs": [
    {
     "name": "stdout",
     "output_type": "stream",
     "text": [
      "Original Sentence : Yuor nmae is msot likley to be Jenish\n",
      "Corrected Sentence : Your name is most likely to be Jewish\n"
     ]
    }
   ],
   "source": [
    "correct_it(\"Yuor nmae is msot likley to be Jenish\")"
   ]
  }
 ],
 "metadata": {
  "kernelspec": {
   "display_name": "Python 3 (ipykernel)",
   "language": "python",
   "name": "python3"
  },
  "language_info": {
   "codemirror_mode": {
    "name": "ipython",
    "version": 3
   },
   "file_extension": ".py",
   "mimetype": "text/x-python",
   "name": "python",
   "nbconvert_exporter": "python",
   "pygments_lexer": "ipython3",
   "version": "3.10.9"
  }
 },
 "nbformat": 4,
 "nbformat_minor": 5
}
